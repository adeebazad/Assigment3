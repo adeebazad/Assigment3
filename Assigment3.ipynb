{
 "cells": [
  {
   "cell_type": "markdown",
   "id": "908865fb-5060-4d70-bc29-a7777ceb9a7d",
   "metadata": {},
   "source": [
    "Q1. Explain with an example each when to use a for loop and a while loop.\n",
    "\n",
    "Ans-1 A \"for loop\" is used when you want to repeat a specific number of times.\n",
    "      \n",
    "      A \"while loop\" is used when you want to repeat an operation until a certain condition is met. \n",
    "      "
   ]
  },
  {
   "cell_type": "code",
   "execution_count": 2,
   "id": "bcf78ac1-a09c-474b-815c-3192e79fa448",
   "metadata": {},
   "outputs": [
    {
     "name": "stdout",
     "output_type": "stream",
     "text": [
      "1\n",
      "2\n",
      "3\n",
      "4\n",
      "5\n"
     ]
    }
   ],
   "source": [
    "array=[1,2,3,4,5]\n",
    "for i in range(0, len(array)):\n",
    "    print(array[i])"
   ]
  },
  {
   "cell_type": "code",
   "execution_count": 3,
   "id": "def270d2-552e-4376-83ae-dc1c0aea23ba",
   "metadata": {},
   "outputs": [
    {
     "name": "stdin",
     "output_type": "stream",
     "text": [
      "Enter a positive integer:  2\n"
     ]
    }
   ],
   "source": [
    "user_input = input(\"Enter a positive integer: \")\n",
    "while True:\n",
    "  \n",
    "  if user_input.isdigit() and int(user_input) > 0:\n",
    "    break\n",
    "    print(\"Invalid input.\")"
   ]
  },
  {
   "cell_type": "markdown",
   "id": "c2a13ae9-c708-4c7e-9b70-fd3413bb611c",
   "metadata": {},
   "source": [
    "Q2. Write a python program to print the sum and product of the first 10 natural numbers using for\n",
    "and while loop."
   ]
  },
  {
   "cell_type": "code",
   "execution_count": 28,
   "id": "264562e8-0c5e-4b18-b132-7f52811b0a5e",
   "metadata": {},
   "outputs": [
    {
     "name": "stdout",
     "output_type": "stream",
     "text": [
      "first sum of  ten natural number using for loop : 55\n",
      "first product of ten natural number using for loop : 3628800\n"
     ]
    }
   ],
   "source": [
    "#sum and product of the first 10 natural numbers using for loop\n",
    "sum_natural=0\n",
    "for i in range(1, 11):\n",
    "    sum_natural=i+sum_natural\n",
    "print(\"first sum of  ten natural number using for loop :\",sum_natural)\n",
    "\n",
    "product_natural=1\n",
    "for i in range(1, 11):\n",
    "    product_natural=i*product_natural\n",
    "print(\"first product of ten natural number using for loop :\",product_natural)"
   ]
  },
  {
   "cell_type": "code",
   "execution_count": 27,
   "id": "bff2578f-8020-4971-bd83-d07b116875ca",
   "metadata": {},
   "outputs": [
    {
     "name": "stdout",
     "output_type": "stream",
     "text": [
      "first sum of  ten natural number using while loop: 55\n",
      "first product of ten natural number using while loop: 3628800\n"
     ]
    }
   ],
   "source": [
    "#sum and product of the first 10 natural numbers using while loop\n",
    "i = 1\n",
    "sum = 0\n",
    "while i <= 10:\n",
    "    sum += i\n",
    "    i += 1\n",
    "print(\"first sum of  ten natural number using while loop:\",sum)\n",
    "\n",
    "\n",
    "n = 1\n",
    "product = 1\n",
    "while n <= 10:\n",
    "    product= n*product\n",
    "    n+= 1\n",
    "print(\"first product of ten natural number using while loop:\",product)"
   ]
  },
  {
   "cell_type": "markdown",
   "id": "1feed0d4-5d84-46a7-89fc-9bda69c3e3c0",
   "metadata": {},
   "source": [
    "Q3. Create a python program to compute the electricity bill for a household.\n",
    "The per-unit charges in rupees are as follows: For the first 100 units, the user will be charged Rs. 4.5 per\n",
    "unit, for the next 100 units, the user will be charged Rs. 6 per unit, and for the next 100 units, the user will\n",
    "be charged Rs. 10 per unit, After 300 units and above the user will be charged Rs. 20 per unit.\n",
    "You are required to take the units of electricity consumed in a month from the user as input.\n",
    "Your program must pass this test case: when the unit of electricity consumed by the user in a month is\n",
    "310, the total electricity bill should be 2250."
   ]
  },
  {
   "cell_type": "code",
   "execution_count": 36,
   "id": "70c31433-c18c-4580-9159-827c231d1162",
   "metadata": {},
   "outputs": [
    {
     "name": "stdin",
     "output_type": "stream",
     "text": [
      "please enter units consumed  in month 310\n"
     ]
    },
    {
     "name": "stdout",
     "output_type": "stream",
     "text": [
      "your electricity bill : 2250.0\n"
     ]
    }
   ],
   "source": [
    "A=int(input(\"please enter units consumed  in month\"))\n",
    "cost=0\n",
    "if A>300:\n",
    "    cost=A-300\n",
    "    A=A-cost\n",
    "    cost=cost*20\n",
    "    if A<=300 and A>200:\n",
    "        cost=cost+100*10\n",
    "        A=A-100\n",
    "        if A<=200 and A>100:\n",
    "            cost=cost+100*6\n",
    "            A=A-100\n",
    "            if A<=100:\n",
    "                cost=cost+100*4.5\n",
    "print (\"your electricity bill :\",cost)\n",
    "    "
   ]
  },
  {
   "cell_type": "markdown",
   "id": "37ed6830-bff3-4345-8502-a3b3b0d3e501",
   "metadata": {},
   "source": [
    "Q4.Create a list of numbers from 1 to 100. Use for loop and while loop to calculate the cube of each\n",
    "number and if the cube of that number is divisible by 4 or 5 then append that number in a list and print\n",
    "that list."
   ]
  },
  {
   "cell_type": "code",
   "execution_count": 78,
   "id": "080ff0ab-46c7-4284-a6e3-cead0a52a3a0",
   "metadata": {},
   "outputs": [
    {
     "name": "stdout",
     "output_type": "stream",
     "text": [
      "the cube of that number is divisible by 4 or 5 : [8, 64, 125, 216, 512, 1000, 1728, 2744, 3375, 4096, 5832, 8000, 10648, 13824, 15625, 17576, 21952, 27000, 32768, 39304, 42875, 46656, 54872, 64000, 74088, 85184, 91125, 97336, 110592, 125000, 140608, 157464, 166375, 175616, 195112, 216000, 238328, 262144, 274625, 287496, 314432, 343000, 373248, 405224, 421875, 438976, 474552, 512000, 551368, 592704, 614125, 636056, 681472, 729000, 778688, 830584, 857375, 884736, 941192, 1000000]\n"
     ]
    }
   ],
   "source": [
    "numbers = list(range(1, 101))\n",
    "cube_list=[]\n",
    "\n",
    "for i in numbers:\n",
    "    cube=i**3\n",
    "    if cube%4==0 or cube%5==0:\n",
    "        cube_list.append(cube)\n",
    "print (\"the cube of that number is divisible by 4 or 5 :\",cube_list)\n",
    "  \n"
   ]
  },
  {
   "cell_type": "code",
   "execution_count": 79,
   "id": "2cb1ec3d-a998-4b3f-8053-4c56b75f3713",
   "metadata": {},
   "outputs": [
    {
     "name": "stdout",
     "output_type": "stream",
     "text": [
      "the cube of that number is divisible by 4 or 5 [8, 64, 125, 216, 512, 1000, 1728, 2744, 3375, 4096, 5832, 8000, 10648, 13824, 15625, 17576, 21952, 27000, 32768, 39304, 42875, 46656, 54872, 64000, 74088, 85184, 91125, 97336, 110592, 125000, 140608, 157464, 166375, 175616, 195112, 216000, 238328, 262144, 274625, 287496, 314432, 343000, 373248, 405224, 421875, 438976, 474552, 512000, 551368, 592704, 614125, 636056, 681472, 729000, 778688, 830584, 857375, 884736, 941192]\n"
     ]
    }
   ],
   "source": [
    "num = list(range(1, 101))\n",
    "c_list=[]\n",
    "i=1\n",
    "while i < len(num):\n",
    "    c_b=i**3\n",
    "    if c_b%4==0 or c_b%5==0:\n",
    "        c_list.append(c_b)\n",
    "    i=i+1\n",
    "print (\"the cube of that number is divisible by 4 or 5\",c_list)"
   ]
  },
  {
   "cell_type": "markdown",
   "id": "717f50c7-171d-4cb8-b21a-cb84a682eae6",
   "metadata": {},
   "source": [
    "Q5. Write a program to filter count vowels in the below-given string\n",
    "\n",
    "string = \"I want to become a data scientist\""
   ]
  },
  {
   "cell_type": "code",
   "execution_count": 77,
   "id": "3e33b1a8-edc1-475e-8507-6a5031b1d0f4",
   "metadata": {},
   "outputs": [
    {
     "name": "stdout",
     "output_type": "stream",
     "text": [
      "vowels in thegiven string is : 11\n"
     ]
    }
   ],
   "source": [
    "string =\"I want to become a data scientist\"\n",
    "string.lower()\n",
    "v=[\"a\",\"e\",\"i\",\"o\",\"u\"]\n",
    "count=0\n",
    "for i in string :\n",
    "    if i==v[0]or i==v[1] or i==v[2] or i== v[3] or i==v[4]:\n",
    "        count = count+1\n",
    "        \n",
    "print (\"vowels in thegiven string is :\",count)"
   ]
  },
  {
   "cell_type": "code",
   "execution_count": null,
   "id": "23c7aa3a-06d8-40da-a6d8-3c3d2a3162d2",
   "metadata": {},
   "outputs": [],
   "source": []
  }
 ],
 "metadata": {
  "kernelspec": {
   "display_name": "Python 3 (ipykernel)",
   "language": "python",
   "name": "python3"
  },
  "language_info": {
   "codemirror_mode": {
    "name": "ipython",
    "version": 3
   },
   "file_extension": ".py",
   "mimetype": "text/x-python",
   "name": "python",
   "nbconvert_exporter": "python",
   "pygments_lexer": "ipython3",
   "version": "3.10.8"
  }
 },
 "nbformat": 4,
 "nbformat_minor": 5
}
